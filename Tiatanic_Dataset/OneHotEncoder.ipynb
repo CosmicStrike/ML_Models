{
 "cells": [
  {
   "cell_type": "markdown",
   "metadata": {},
   "source": [
    "Understanding OneHotEncoder\n"
   ]
  },
  {
   "cell_type": "code",
   "execution_count": 20,
   "metadata": {},
   "outputs": [],
   "source": [
    "from sklearn.preprocessing import LabelEncoder\n",
    "from sklearn.preprocessing import OneHotEncoder\n",
    "import pandas as pd\n",
    "import sys"
   ]
  },
  {
   "cell_type": "code",
   "execution_count": 2,
   "metadata": {},
   "outputs": [
    {
     "name": "stdout",
     "output_type": "stream",
     "text": [
      "d:\\Shubham_File_\\MachineLearning_MyProjects\\MODELS\\VENV\n"
     ]
    }
   ],
   "source": [
    "encoder = LabelEncoder()\n",
    "print(sys.prefix)"
   ]
  },
  {
   "cell_type": "code",
   "execution_count": 5,
   "metadata": {},
   "outputs": [],
   "source": [
    "df1 = pd.read_csv(\"DataSet\\\\train.csv\")\n",
    "df2 = pd.read_csv(\"DataSet\\\\test.csv\")\n",
    "# df = ['a','b','c','d','v','s','q','w','a','b1','c1','d1','a3','b3','c3','d3']"
   ]
  },
  {
   "cell_type": "code",
   "execution_count": 62,
   "metadata": {},
   "outputs": [
    {
     "name": "stdout",
     "output_type": "stream",
     "text": [
      "<class 'sklearn.preprocessing._label.LabelEncoder'>\n"
     ]
    }
   ],
   "source": [
    "# print(type(encoder.fit(df)))\n",
    "# x = encoder.transform(df)"
   ]
  },
  {
   "cell_type": "code",
   "execution_count": 63,
   "metadata": {},
   "outputs": [
    {
     "name": "stdout",
     "output_type": "stream",
     "text": [
      "<class 'numpy.ndarray'>\n",
      "[ 0  2  5  8 13 12 11 14  0  3  6  9  1  4  7 10]\n",
      "(16,)\n"
     ]
    },
    {
     "data": {
      "text/plain": [
       "array([ 0,  2,  5,  8, 13, 12, 11, 14,  0,  3,  6,  9,  1,  4,  7, 10])"
      ]
     },
     "execution_count": 63,
     "metadata": {},
     "output_type": "execute_result"
    }
   ],
   "source": [
    "# print(type(x))\n",
    "# print(x)\n",
    "# print(x.shape)\n",
    "# x"
   ]
  },
  {
   "cell_type": "code",
   "execution_count": 65,
   "metadata": {},
   "outputs": [
    {
     "name": "stdout",
     "output_type": "stream",
     "text": [
      "['a' 'b' 'c' 'd' 'v' 's' 'q' 'w' 'a' 'b1' 'c1' 'd1' 'a3' 'b3' 'c3' 'd3']\n"
     ]
    }
   ],
   "source": [
    "# y = encoder.inverse_transform(x)\n",
    "# print(y)"
   ]
  },
  {
   "cell_type": "code",
   "execution_count": 18,
   "metadata": {},
   "outputs": [
    {
     "name": "stdout",
     "output_type": "stream",
     "text": [
      "Ticket of training:  681\n",
      "Cabin of training:  148\n",
      "Ticket of testing:  363\n",
      "Cabin of testing:  77\n"
     ]
    }
   ],
   "source": [
    "print(\"Ticket of training: \",len(df1['Ticket'].unique()))\n",
    "print(\"Cabin of training: \",len(df1['Cabin'].unique()))\n",
    "\n",
    "print(\"Ticket of testing: \",len(df2['Ticket'].unique()))\n",
    "print(\"Cabin of testing: \",len(df2['Cabin'].unique()))\n",
    "# print(df1.head())\n"
   ]
  },
  {
   "cell_type": "code",
   "execution_count": 29,
   "metadata": {},
   "outputs": [
    {
     "name": "stdout",
     "output_type": "stream",
     "text": [
      "<class 'pandas.core.series.Series'>\n"
     ]
    }
   ],
   "source": [
    "enco = OneHotEncoder()\n",
    "# enco.fit(df1['Ticket'])\n",
    "\n",
    "print(type(df1['Ticket']))"
   ]
  },
  {
   "cell_type": "code",
   "execution_count": 40,
   "metadata": {},
   "outputs": [
    {
     "name": "stdout",
     "output_type": "stream",
     "text": [
      "True\n"
     ]
    }
   ],
   "source": [
    "df = ['a','b','c',1,'v','s','q','w','a','b1','c1','d1','a3','b3','c3','d3']\n",
    "print(df[3] in [i for i in range(1,7)])"
   ]
  },
  {
   "cell_type": "code",
   "execution_count": null,
   "metadata": {},
   "outputs": [],
   "source": []
  }
 ],
 "metadata": {
  "kernelspec": {
   "display_name": "Python 3.8.10 ('VENV': venv)",
   "language": "python",
   "name": "python3"
  },
  "language_info": {
   "codemirror_mode": {
    "name": "ipython",
    "version": 3
   },
   "file_extension": ".py",
   "mimetype": "text/x-python",
   "name": "python",
   "nbconvert_exporter": "python",
   "pygments_lexer": "ipython3",
   "version": "3.8.10"
  },
  "orig_nbformat": 4,
  "vscode": {
   "interpreter": {
    "hash": "8a3529faac87cacb3c2f15e51ec3978a7095e3d8fd95583ccd30bb683360fbc8"
   }
  }
 },
 "nbformat": 4,
 "nbformat_minor": 2
}
