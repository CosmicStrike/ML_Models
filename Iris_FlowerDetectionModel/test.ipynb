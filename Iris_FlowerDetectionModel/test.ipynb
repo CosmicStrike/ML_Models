{
 "cells": [
  {
   "cell_type": "code",
   "execution_count": 14,
   "metadata": {},
   "outputs": [
    {
     "data": {
      "text/plain": [
       "count             150\n",
       "unique              3\n",
       "top       Iris-setosa\n",
       "freq               50\n",
       "Name: Species, dtype: object"
      ]
     },
     "execution_count": 14,
     "metadata": {},
     "output_type": "execute_result"
    }
   ],
   "source": [
    "import pandas as pd\n",
    "import numpy as np\n",
    "import matplotlib.pyplot as pt\n",
    "import random\n",
    "\n",
    "\n",
    "database = pd.read_excel(\"Iris.xlsx\")\n",
    "database['Species'].describe()\n",
    "# iris_sentosa = 1\n",
    "# iris_versicolor = 2\n",
    "# iris_virginica = 3\n",
    "#############################################################################################################################\n",
    "\n",
    "\n"
   ]
  },
  {
   "cell_type": "markdown",
   "metadata": {},
   "source": [
    "Imorted header files and changed the species by numbers as 1 ,2 ,3 as mention above"
   ]
  },
  {
   "cell_type": "code",
   "execution_count": 15,
   "metadata": {},
   "outputs": [],
   "source": [
    "database.describe()\n",
    "database\n",
    "iris_database = np.array(database.iloc[0:150,1:6])\n",
    "for i in range(len(iris_database)):\n",
    "    if iris_database[i][-1] == \"Iris-setosa\":\n",
    "        iris_database[i][-1] = 1\n",
    "    elif iris_database[i][-1] == \"Iris-versicolor\":\n",
    "        iris_database[i][-1] = 2\n",
    "    elif iris_database[i][-1] == \"Iris-virginica\":\n",
    "        iris_database[i][-1] = 3\n",
    "\n",
    "\n",
    "# Array working\n",
    "# arr = np.array([1, 2, 3, 4, 5, 6, 7, 8])\n",
    "# for i in range(len(arr)):\n",
    "#     arr[i] == i + 1\n",
    "#     print(i)\n",
    "\n",
    "# iris_database = np.array(database.iloc[0:150,1:6])\n"
   ]
  },
  {
   "cell_type": "markdown",
   "metadata": {},
   "source": [
    "Converted pd to arrays so to plot them on graph"
   ]
  },
  {
   "cell_type": "code",
   "execution_count": 16,
   "metadata": {},
   "outputs": [
    {
     "data": {
      "text/plain": [
       "array([[5.1, 3.5, 1.4, 0.2, 1],\n",
       "       [4.9, 3.0, 1.4, 0.2, 1],\n",
       "       [4.7, 3.2, 1.3, 0.2, 1],\n",
       "       [4.6, 3.1, 1.5, 0.2, 1],\n",
       "       [5.0, 3.6, 1.4, 0.2, 1],\n",
       "       [5.4, 3.9, 1.7, 0.4, 1],\n",
       "       [4.6, 3.4, 1.4, 0.3, 1],\n",
       "       [5.0, 3.4, 1.5, 0.2, 1],\n",
       "       [4.4, 2.9, 1.4, 0.2, 1],\n",
       "       [4.9, 3.1, 1.5, 0.1, 1],\n",
       "       [5.4, 3.7, 1.5, 0.2, 1],\n",
       "       [4.8, 3.4, 1.6, 0.2, 1],\n",
       "       [4.8, 3.0, 1.4, 0.1, 1],\n",
       "       [4.3, 3.0, 1.1, 0.1, 1],\n",
       "       [5.8, 4.0, 1.2, 0.2, 1],\n",
       "       [5.7, 4.4, 1.5, 0.4, 1],\n",
       "       [5.4, 3.9, 1.3, 0.4, 1],\n",
       "       [5.1, 3.5, 1.4, 0.3, 1],\n",
       "       [5.7, 3.8, 1.7, 0.3, 1],\n",
       "       [5.1, 3.8, 1.5, 0.3, 1],\n",
       "       [5.4, 3.4, 1.7, 0.2, 1],\n",
       "       [5.1, 3.7, 1.5, 0.4, 1],\n",
       "       [4.6, 3.6, 1.0, 0.2, 1],\n",
       "       [5.1, 3.3, 1.7, 0.5, 1],\n",
       "       [4.8, 3.4, 1.9, 0.2, 1],\n",
       "       [5.0, 3.0, 1.6, 0.2, 1],\n",
       "       [5.0, 3.4, 1.6, 0.4, 1],\n",
       "       [5.2, 3.5, 1.5, 0.2, 1],\n",
       "       [5.2, 3.4, 1.4, 0.2, 1],\n",
       "       [4.7, 3.2, 1.6, 0.2, 1],\n",
       "       [4.8, 3.1, 1.6, 0.2, 1],\n",
       "       [5.4, 3.4, 1.5, 0.4, 1],\n",
       "       [5.2, 4.1, 1.5, 0.1, 1],\n",
       "       [5.5, 4.2, 1.4, 0.2, 1],\n",
       "       [4.9, 3.1, 1.5, 0.1, 1],\n",
       "       [5.0, 3.2, 1.2, 0.2, 1],\n",
       "       [5.5, 3.5, 1.3, 0.2, 1],\n",
       "       [4.9, 3.1, 1.5, 0.1, 1],\n",
       "       [4.4, 3.0, 1.3, 0.2, 1],\n",
       "       [5.1, 3.4, 1.5, 0.2, 1],\n",
       "       [5.0, 3.5, 1.3, 0.3, 1],\n",
       "       [4.5, 2.3, 1.3, 0.3, 1],\n",
       "       [4.4, 3.2, 1.3, 0.2, 1],\n",
       "       [5.0, 3.5, 1.6, 0.6, 1],\n",
       "       [5.1, 3.8, 1.9, 0.4, 1],\n",
       "       [4.8, 3.0, 1.4, 0.3, 1],\n",
       "       [5.1, 3.8, 1.6, 0.2, 1],\n",
       "       [4.6, 3.2, 1.4, 0.2, 1],\n",
       "       [5.3, 3.7, 1.5, 0.2, 1],\n",
       "       [5.0, 3.3, 1.4, 0.2, 1],\n",
       "       [7.0, 3.2, 4.7, 1.4, 2],\n",
       "       [6.4, 3.2, 4.5, 1.5, 2],\n",
       "       [6.9, 3.1, 4.9, 1.5, 2],\n",
       "       [5.5, 2.3, 4.0, 1.3, 2],\n",
       "       [6.5, 2.8, 4.6, 1.5, 2],\n",
       "       [5.7, 2.8, 4.5, 1.3, 2],\n",
       "       [6.3, 3.3, 4.7, 1.6, 2],\n",
       "       [4.9, 2.4, 3.3, 1.0, 2],\n",
       "       [6.6, 2.9, 4.6, 1.3, 2],\n",
       "       [5.2, 2.7, 3.9, 1.4, 2],\n",
       "       [5.0, 2.0, 3.5, 1.0, 2],\n",
       "       [5.9, 3.0, 4.2, 1.5, 2],\n",
       "       [6.0, 2.2, 4.0, 1.0, 2],\n",
       "       [6.1, 2.9, 4.7, 1.4, 2],\n",
       "       [5.6, 2.9, 3.6, 1.3, 2],\n",
       "       [6.7, 3.1, 4.4, 1.4, 2],\n",
       "       [5.6, 3.0, 4.5, 1.5, 2],\n",
       "       [5.8, 2.7, 4.1, 1.0, 2],\n",
       "       [6.2, 2.2, 4.5, 1.5, 2],\n",
       "       [5.6, 2.5, 3.9, 1.1, 2],\n",
       "       [5.9, 3.2, 4.8, 1.8, 2],\n",
       "       [6.1, 2.8, 4.0, 1.3, 2],\n",
       "       [6.3, 2.5, 4.9, 1.5, 2],\n",
       "       [6.1, 2.8, 4.7, 1.2, 2],\n",
       "       [6.4, 2.9, 4.3, 1.3, 2],\n",
       "       [6.6, 3.0, 4.4, 1.4, 2],\n",
       "       [6.8, 2.8, 4.8, 1.4, 2],\n",
       "       [6.7, 3.0, 5.0, 1.7, 2],\n",
       "       [6.0, 2.9, 4.5, 1.5, 2],\n",
       "       [5.7, 2.6, 3.5, 1.0, 2],\n",
       "       [5.5, 2.4, 3.8, 1.1, 2],\n",
       "       [5.5, 2.4, 3.7, 1.0, 2],\n",
       "       [5.8, 2.7, 3.9, 1.2, 2],\n",
       "       [6.0, 2.7, 5.1, 1.6, 2],\n",
       "       [5.4, 3.0, 4.5, 1.5, 2],\n",
       "       [6.0, 3.4, 4.5, 1.6, 2],\n",
       "       [6.7, 3.1, 4.7, 1.5, 2],\n",
       "       [6.3, 2.3, 4.4, 1.3, 2],\n",
       "       [5.6, 3.0, 4.1, 1.3, 2],\n",
       "       [5.5, 2.5, 4.0, 1.3, 2],\n",
       "       [5.5, 2.6, 4.4, 1.2, 2],\n",
       "       [6.1, 3.0, 4.6, 1.4, 2],\n",
       "       [5.8, 2.6, 4.0, 1.2, 2],\n",
       "       [5.0, 2.3, 3.3, 1.0, 2],\n",
       "       [5.6, 2.7, 4.2, 1.3, 2],\n",
       "       [5.7, 3.0, 4.2, 1.2, 2],\n",
       "       [5.7, 2.9, 4.2, 1.3, 2],\n",
       "       [6.2, 2.9, 4.3, 1.3, 2],\n",
       "       [5.1, 2.5, 3.0, 1.1, 2],\n",
       "       [5.7, 2.8, 4.1, 1.3, 2],\n",
       "       [6.3, 3.3, 6.0, 2.5, 3],\n",
       "       [5.8, 2.7, 5.1, 1.9, 3],\n",
       "       [7.1, 3.0, 5.9, 2.1, 3],\n",
       "       [6.3, 2.9, 5.6, 1.8, 3],\n",
       "       [6.5, 3.0, 5.8, 2.2, 3],\n",
       "       [7.6, 3.0, 6.6, 2.1, 3],\n",
       "       [4.9, 2.5, 4.5, 1.7, 3],\n",
       "       [7.3, 2.9, 6.3, 1.8, 3],\n",
       "       [6.7, 2.5, 5.8, 1.8, 3],\n",
       "       [7.2, 3.6, 6.1, 2.5, 3],\n",
       "       [6.5, 3.2, 5.1, 2.0, 3],\n",
       "       [6.4, 2.7, 5.3, 1.9, 3],\n",
       "       [6.8, 3.0, 5.5, 2.1, 3],\n",
       "       [5.7, 2.5, 5.0, 2.0, 3],\n",
       "       [5.8, 2.8, 5.1, 2.4, 3],\n",
       "       [6.4, 3.2, 5.3, 2.3, 3],\n",
       "       [6.5, 3.0, 5.5, 1.8, 3],\n",
       "       [7.7, 3.8, 6.7, 2.2, 3],\n",
       "       [7.7, 2.6, 6.9, 2.3, 3],\n",
       "       [6.0, 2.2, 5.0, 1.5, 3],\n",
       "       [6.9, 3.2, 5.7, 2.3, 3],\n",
       "       [5.6, 2.8, 4.9, 2.0, 3],\n",
       "       [7.7, 2.8, 6.7, 2.0, 3],\n",
       "       [6.3, 2.7, 4.9, 1.8, 3],\n",
       "       [6.7, 3.3, 5.7, 2.1, 3],\n",
       "       [7.2, 3.2, 6.0, 1.8, 3],\n",
       "       [6.2, 2.8, 4.8, 1.8, 3],\n",
       "       [6.1, 3.0, 4.9, 1.8, 3],\n",
       "       [6.4, 2.8, 5.6, 2.1, 3],\n",
       "       [7.2, 3.0, 5.8, 1.6, 3],\n",
       "       [7.4, 2.8, 6.1, 1.9, 3],\n",
       "       [7.9, 3.8, 6.4, 2.0, 3],\n",
       "       [6.4, 2.8, 5.6, 2.2, 3],\n",
       "       [6.3, 2.8, 5.1, 1.5, 3],\n",
       "       [6.1, 2.6, 5.6, 1.4, 3],\n",
       "       [7.7, 3.0, 6.1, 2.3, 3],\n",
       "       [6.3, 3.4, 5.6, 2.4, 3],\n",
       "       [6.4, 3.1, 5.5, 1.8, 3],\n",
       "       [6.0, 3.0, 4.8, 1.8, 3],\n",
       "       [6.9, 3.1, 5.4, 2.1, 3],\n",
       "       [6.7, 3.1, 5.6, 2.4, 3],\n",
       "       [6.9, 3.1, 5.1, 2.3, 3],\n",
       "       [5.8, 2.7, 5.1, 1.9, 3],\n",
       "       [6.8, 3.2, 5.9, 2.3, 3],\n",
       "       [6.7, 3.3, 5.7, 2.5, 3],\n",
       "       [6.7, 3.0, 5.2, 2.3, 3],\n",
       "       [6.3, 2.5, 5.0, 1.9, 3],\n",
       "       [6.5, 3.0, 5.2, 2.0, 3],\n",
       "       [6.2, 3.4, 5.4, 2.3, 3],\n",
       "       [5.9, 3.0, 5.1, 1.8, 3]], dtype=object)"
      ]
     },
     "execution_count": 16,
     "metadata": {},
     "output_type": "execute_result"
    }
   ],
   "source": [
    "# count = 0\n",
    "# # for i in range(len(iris_database)):\n",
    "# #     if iris_database[i]['Species'].values == 'Iris-setosa':\n",
    "# #         count+=1\n",
    "\n",
    "# iris_database\n",
    "# for i in range(len(iris_database)):\n",
    "#     if iris_database[i, -1] == 'Iris-setosa':\n",
    "#         count += 1\n",
    "\n",
    "iris_database\n",
    "############################################################################################################################\n",
    "\n"
   ]
  },
  {
   "cell_type": "markdown",
   "metadata": {},
   "source": [
    "Now ploting the array to graphs"
   ]
  },
  {
   "cell_type": "code",
   "execution_count": 17,
   "metadata": {},
   "outputs": [
    {
     "data": {
      "text/plain": [
       "<matplotlib.collections.PathCollection at 0x246146b66e0>"
      ]
     },
     "execution_count": 17,
     "metadata": {},
     "output_type": "execute_result"
    },
    {
     "data": {
      "image/png": "[encoded data removed]",
      "text/plain": [
       "<Figure size 720x576 with 1 Axes>"
      ]
     },
     "metadata": {
      "needs_background": "light"
     },
     "output_type": "display_data"
    }
   ],
   "source": [
    "x = np.array(range(1,151))\n",
    "pt.figure(figsize=(10,8))\n",
    "pt.scatter(x,iris_database[0:150,0])\n",
    "pt.scatter(x,iris_database[0:150,1])\n",
    "pt.scatter(x,iris_database[0:150,2])\n",
    "pt.scatter(x,iris_database[0:150,3])\n",
    "pt.scatter(x,iris_database[0:150,4])"
   ]
  },
  {
   "cell_type": "code",
   "execution_count": 18,
   "metadata": {},
   "outputs": [],
   "source": [
    "#Making the function to separate the train data and test data in 25:75 ratio\n",
    "\n",
    "def SpliteData(Data):\n",
    "    trainData, testData = np.empty([int(0.75*len(Data)),5],np.float32), np.empty([int(0.25*len(Data)),5],np.float32)\n",
    "    trainS = int(0.75*len(Data))\n",
    "\n",
    "    for i in range(trainS):\n",
    "        trainData[i]=Data[i]\n",
    "\n",
    "    for i in range(trainS,len(Data)-1):\n",
    "        testData[i-trainS]=Data[i]\n",
    "\n",
    "    return trainData,testData\n",
    "\n",
    "\n"
   ]
  },
  {
   "cell_type": "code",
   "execution_count": 19,
   "metadata": {},
   "outputs": [],
   "source": [
    "iris_Setosa = iris_database[0:50]\n",
    "iris_versicolor = iris_database[50:100]\n",
    "iris_virginica = iris_database[100:150]"
   ]
  },
  {
   "cell_type": "code",
   "execution_count": 20,
   "metadata": {},
   "outputs": [],
   "source": [
    "trainSetosa, testSetosa = SpliteData(iris_Setosa)\n",
    "trainVersicolor, testVersicolor = SpliteData(iris_versicolor)\n",
    "trainVirginica, testVirginica = SpliteData(iris_virginica)"
   ]
  },
  {
   "cell_type": "code",
   "execution_count": 21,
   "metadata": {},
   "outputs": [
    {
     "data": {
      "text/plain": [
       "<matplotlib.collections.PathCollection at 0x24614757df0>"
      ]
     },
     "execution_count": 21,
     "metadata": {},
     "output_type": "execute_result"
    },
    {
     "data": {
      "image/png": "[encoded data removed]",
      "text/plain": [
       "<Figure size 720x576 with 1 Axes>"
      ]
     },
     "metadata": {
      "needs_background": "light"
     },
     "output_type": "display_data"
    }
   ],
   "source": [
    "pt.figure(figsize=(10,8))\n",
    "\n",
    "x1 = np.array(range(1,len(trainSetosa)+1))\n",
    "pt.scatter(x1,trainSetosa[0:len(trainSetosa),0])\n",
    "\n",
    "y1 = np.array(range(1,len(trainVersicolor)+1))\n",
    "pt.scatter(y1,trainVersicolor[0:len(trainVersicolor),0])\n",
    "\n",
    "z1 = np.array([range(1,len(trainVirginica)+1)])\n",
    "pt.scatter(y1,trainVirginica[0:len(trainVirginica),0])\n"
   ]
  },
  {
   "cell_type": "code",
   "execution_count": 22,
   "metadata": {},
   "outputs": [],
   "source": [
    "label_Setosa = trainSetosa[0:len(trainSetosa),-1]\n",
    "label_Versicolor = trainVersicolor[0:len(trainVersicolor), -1]\n",
    "label_Virginica = trainVirginica[0:len(trainVirginica), -1]\n",
    "\n",
    "\n",
    "trainSetosa = trainSetosa[0:len(trainSetosa),0:4]\n",
    "trainVersicolor = trainVersicolor[0:len(trainVersicolor), 0:4]\n",
    "trainVirginica = trainVirginica[0:len(trainVirginica), 0:4]\n"
   ]
  },
  {
   "cell_type": "code",
   "execution_count": 23,
   "metadata": {},
   "outputs": [],
   "source": [
    "label = np.append(label_Setosa , label_Versicolor)\n",
    "label = np.append(label,label_Virginica)\n",
    "\n",
    "\n",
    "feature = np.append(trainSetosa,trainVersicolor,axis=0)\n",
    "feature = np.append(feature,trainVirginica,axis=0)"
   ]
  },
  {
   "cell_type": "code",
   "execution_count": 24,
   "metadata": {},
   "outputs": [
    {
     "name": "stdout",
     "output_type": "stream",
     "text": [
      "[1.]\n"
     ]
    }
   ],
   "source": [
    "from sklearn.neighbors import KNeighborsClassifier\n",
    "\n",
    "model = KNeighborsClassifier(n_neighbors=7)\n",
    "\n",
    "model.fit(feature,label)\n",
    "print(model.predict([[5.1, 3.5, 1.4, 0.1]]))\n"
   ]
  },
  {
   "cell_type": "code",
   "execution_count": null,
   "metadata": {},
   "outputs": [],
   "source": []
  }
 ],
 "metadata": {
  "interpreter": {
   "hash": "57baa5815c940fdaff4d14510622de9616cae602444507ba5d0b6727c008cbd6"
  },
  "kernelspec": {
   "display_name": "Python 3.7.8 64-bit",
   "language": "python",
   "name": "python3"
  },
  "language_info": {
   "codemirror_mode": {
    "name": "ipython",
    "version": 3
   },
   "file_extension": ".py",
   "mimetype": "text/x-python",
   "name": "python",
   "nbconvert_exporter": "python",
   "pygments_lexer": "ipython3",
   "version": "3.10.0"
  },
  "orig_nbformat": 4
 },
 "nbformat": 4,
 "nbformat_minor": 2
}
